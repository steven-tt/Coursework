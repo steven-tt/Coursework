{
 "cells": [
  {
   "cell_type": "markdown",
   "metadata": {},
   "source": [
    "# Population project\n",
    "## Steven Turner"
   ]
  },
  {
   "cell_type": "markdown",
   "metadata": {},
   "source": [
    "#### Imports and Definitions"
   ]
  },
  {
   "cell_type": "code",
   "execution_count": 1,
   "metadata": {
    "collapsed": false
   },
   "outputs": [],
   "source": [
    "%matplotlib inline \n",
    "import numpy as np\n",
    "import matplotlib.pyplot as plt\n",
    "from scipy.optimize import curve_fit\n",
    "\n",
    "def exp(t, A, r):\n",
    "    return A*np.exp(t*r)\n",
    "\n",
    "def log(t, L, A, r):\n",
    "    return L/(1+A*np.exp(-r*t))\n",
    "\n",
    "def gom(t, L, b,r):\n",
    "    return L*np.exp(-b*np.exp(-r*t))\n",
    "\n",
    "def R2value(ydata, yapp):\n",
    "    ymean = np.mean(ydata)\n",
    "    R2 = 1.0 - (np.sum((yapp - ydata)**2))/(np.sum((ydata - ymean)**2))\n",
    "    return R2"
   ]
  },
  {
   "cell_type": "markdown",
   "metadata": {},
   "source": [
    "# Munich, Germany"
   ]
  },
  {
   "cell_type": "markdown",
   "metadata": {},
   "source": [
    "#### Data"
   ]
  },
  {
   "cell_type": "code",
   "execution_count": 2,
   "metadata": {
    "collapsed": true
   },
   "outputs": [],
   "source": [
    "CensusFile = open('MunichPop.csv', 'r') #Don't you dare overwrite this file!\n",
    "M = 50 #50 data points.\n",
    "a = 0\n",
    "b = 0\n",
    "Gyears = np.zeros([M], dtype=int)\n",
    "Gpop = np.zeros([M], dtype=int)\n",
    "for line in CensusFile:\n",
    "    if a == 0 or a==1:\n",
    "        a=a+1\n",
    "    else:\n",
    "        values = line.split(',')\n",
    "        Gyears[b] = int(values[0])\n",
    "        Gpop[b] = int(values[1])\n",
    "        b = b+1\n",
    "        a = a+1\n",
    "CensusFile.close()\n",
    "GTime = Gyears - 1830 # base at 0\n",
    "GPop_mil = Gpop/1.e6\n",
    "\n",
    "#Floating point types, used by curve_fit\n",
    "GTim_Float = GTime.astype(np.float64)\n",
    "GPop_Float = Gpop.astype(np.float64)/1e6"
   ]
  },
  {
   "cell_type": "markdown",
   "metadata": {},
   "source": [
    "#### Model"
   ]
  },
  {
   "cell_type": "code",
   "execution_count": 3,
   "metadata": {
    "collapsed": false
   },
   "outputs": [],
   "source": [
    "L = 1.5\n",
    "\n",
    "### Exponetial model\n",
    "EM_yval = np.log(GPop_mil)\n",
    "[EM_r, EM_lnA] = np.polyfit(GTime,EM_yval, 1) #first value is r\n",
    "EM_param, EM_cov = curve_fit(exp, GTim_Float, GPop_Float, p0=(np.exp(EM_lnA), EM_r)) #Nonlinear fit the first thing \n",
    "EM_model = exp(GTime, EM_param[0], EM_param[1])\n",
    "\n",
    "\n",
    "### Logistic Model\n",
    "LM_yval = np.log(L/GPop_mil - 1.0)\n",
    "[LM_mr,LM_lnA] = np.polyfit(GTime, LM_yval,1)\n",
    "LM_param, LM_cov = curve_fit(log, GTim_Float, GPop_Float, p0 = (L, np.exp(LM_lnA), -LM_mr)) #Nonlinear fit\n",
    "LM_model = log(GTime, LM_param[0], LM_param[1], LM_param[2])\n",
    "\n",
    "### Gompertz Model\n",
    "GM_yval = np.log(np.log(L/GPop_mil))\n",
    "[GM_slope, GM_intercept] = np.polyfit(GTime, GM_yval,1) #Linear least squares fit slope is -r and int is ln(b)\n",
    "GM_param, GM_cov = curve_fit(gom, GTim_Float, GPop_Float, p0 = (L, np.exp(GM_intercept), -GM_slope)) #Nonlinear fit\n",
    "GM_model = gom(GTime, GM_param[0], GM_param[1], GM_param[2])"
   ]
  },
  {
   "cell_type": "markdown",
   "metadata": {},
   "source": [
    "#### Last one out Method"
   ]
  },
  {
   "cell_type": "code",
   "execution_count": 4,
   "metadata": {
    "collapsed": false
   },
   "outputs": [],
   "source": [
    "L = 1.5\n",
    "\n",
    "### Exponetial model\n",
    "EMP_yval = np.log(GPop_mil[0:M-1])\n",
    "[EMP_r, EMP_lnA] = np.polyfit(GTime[0:M-1], EMP_yval, 1) #first value is r\n",
    "EMP_param, EMP_cov = curve_fit(exp, GTim_Float[0:M-1], GPop_Float[0:M-1], p0=(np.exp(EMP_lnA), EMP_r)) #Nonlinear fit the first thing \n",
    "EMP_model = exp(GTime, EMP_param[0], EMP_param[1])\n",
    "\n",
    "### Logistic Model\n",
    "LMP_yval = np.log(L/GPop_mil[0:M-1] - 1.0)\n",
    "[LMP_mr,LMP_lnA] = np.polyfit(GTime[0:M-1], LMP_yval,1)\n",
    "LMP_param, LMP_cov = curve_fit(log, GTim_Float[0:M-1], GPop_Float[0:M-1], p0 = (L, np.exp(LMP_lnA), -LMP_mr)) #Nonlinear fit\n",
    "LMP_model = log(GTime, LMP_param[0], LMP_param[1], LMP_param[2])\n",
    "\n",
    "### Gompertz Model\n",
    "GMP_yval = np.log(np.log(L/GPop_mil[0:M-1]))\n",
    "[GMP_slope, GMP_intercept] = np.polyfit(GTime[0:M-1], GMP_yval ,1) #Linear least squares fit slope is -r and int is ln(b)\n",
    "GMP_param, GMP_cov = curve_fit(gom, GTim_Float[0:M-1], GPop_Float[0:M-1], p0 = (L, np.exp(GMP_intercept), -GMP_slope)) #Nonlinear fit\n",
    "GMP_model = gom(GTime, GMP_param[0], GMP_param[1], GMP_param[2])"
   ]
  },
  {
   "cell_type": "markdown",
   "metadata": {},
   "source": [
    "#### Outputs"
   ]
  },
  {
   "cell_type": "code",
   "execution_count": 5,
   "metadata": {
    "collapsed": false
   },
   "outputs": [
    {
     "name": "stdout",
     "output_type": "stream",
     "text": [
      "Exponetial Model\n",
      "--param A and r [ 0.19485463  0.01112957]\n",
      "--R2 value 0.938304130824\n",
      "--Final data point = 1.305525 Estimated value =  1.39714619365\n",
      "\n",
      "Exponetial Model prediction\n",
      "--param A and r [ 0.19355238  0.01119634]\n",
      "--R2 value 0.93824010918\n",
      "--Final data point in graph = 1.305525 Estimated value =  1.40430813011\n",
      "--Error 7.5665445023\n",
      "\n",
      "Logistic Model\n",
      "--Nonlinear L, A and r are  [  1.36421942  21.86682604   0.0321998 ]\n",
      "--R2 value 0.990957131741\n",
      "--Final data point = 1.305525 Estimated value =  1.27115542023\n",
      "\n",
      "Logistic Model prediction\n",
      "--Nonlinear L, A and r are  [  1.35955416  21.96109883   0.03234017]\n",
      "--R2 value 0.990948489184\n",
      "--Final data point = 1.305525 Estimated value =  1.2685681224\n",
      "--Error -2.83080581362\n",
      "\n",
      "Gompertz Model\n",
      "--Nonlinear L, A and r are  [ 1.61705118  4.09568923  0.01637353]\n",
      "--R2 value 0.989852032048\n",
      "--Final data point = 1.305525 Estimated value =  1.29023037111\n",
      "\n",
      "Gompertz Model prediction\n",
      "--Nonlinear L, A and r are  [ 1.61259237  4.10074269  0.01642624]\n",
      "--R2 value 0.989850221971\n",
      "--Final data point = 1.305525 Estimated value =  1.28901783382\n",
      "--Error -1.2644082788\n"
     ]
    }
   ],
   "source": [
    "print \"Exponetial Model\"\n",
    "print \"--param A and r\", EM_param\n",
    "print \"--R2 value\", R2value(GPop_Float, EM_model)\n",
    "print \"--Final data point =\", GPop_mil[M-1], \"Estimated value = \", EM_model[M-1]\n",
    "print\n",
    "print \"Exponetial Model prediction\"\n",
    "print \"--param A and r\", EMP_param\n",
    "print \"--R2 value\", R2value(GPop_Float, EMP_model)\n",
    "print \"--Final data point in graph =\", GPop_mil[M-1], \"Estimated value = \", EMP_model[M-1]\n",
    "print '--Error', ((EMP_model[M-1]-GPop_mil[M-1])/GPop_mil[M-1])*100\n",
    "print\n",
    "print \"Logistic Model\"\n",
    "print \"--Nonlinear L, A and r are \", LM_param\n",
    "print \"--R2 value\", R2value(GPop_Float,LM_model)\n",
    "print \"--Final data point =\", GPop_mil[M-1], \"Estimated value = \", LM_model[M-1]\n",
    "print\n",
    "print \"Logistic Model prediction\"\n",
    "print \"--Nonlinear L, A and r are \", LMP_param\n",
    "print \"--R2 value\", R2value(GPop_Float, LMP_model)\n",
    "print \"--Final data point =\", GPop_mil[M-1], \"Estimated value = \", LMP_model[M-1]\n",
    "print '--Error', ((LMP_model[M-1]-GPop_mil[M-1])/GPop_mil[M-1])*100\n",
    "print\n",
    "print \"Gompertz Model\"\n",
    "print \"--Nonlinear L, A and r are \", GM_param\n",
    "print \"--R2 value\", R2value(GPop_Float,GM_model)\n",
    "print \"--Final data point =\", GPop_mil[M-1], \"Estimated value = \", GM_model[M-1]\n",
    "print\n",
    "print \"Gompertz Model prediction\"\n",
    "print \"--Nonlinear L, A and r are \", GMP_param\n",
    "print \"--R2 value\", R2value(GPop_Float, GMP_model)\n",
    "print \"--Final data point =\", GPop_mil[M-1], \"Estimated value = \", GMP_model[M-1]\n",
    "print '--Error', ((GMP_model[M-1]-GPop_mil[M-1])/GPop_mil[M-1])*100"
   ]
  },
  {
   "cell_type": "code",
   "execution_count": 20,
   "metadata": {
    "collapsed": false
   },
   "outputs": [],
   "source": [
    "### German Pop\n",
    "plt.figure(figsize=(6,8))\n",
    "plt.plot(Gyears, GPop_mil, 'o', color='r', label='Munich Population')\n",
    "plt.plot(Gyears, EM_model, color='b', label='Exponential Model') \n",
    "plt.plot(Gyears, LM_model, color='g', label='Logistic Model') \n",
    "plt.plot(Gyears, GM_model, color='orange', label='Gom Model')\n",
    "plt.ylabel('Population of Munich (millions)')\n",
    "plt.xlabel('Year')\n",
    "plt.xlim([1825, 2010])\n",
    "plt.legend(loc=2)\n",
    "plt.title('Population of Munich and Best Fit Models')\n",
    "plt.savefig('GPop_Models')\n",
    "# plt.show()\n",
    "plt.close()\n",
    "\n",
    "### German Pop Predictions\n",
    "plt.figure(figsize=(6,8))\n",
    "plt.plot(Gyears, GPop_mil, 'o', color='r', label='Munich Population')\n",
    "plt.plot(Gyears, EMP_model, color='b', label='exponential model') \n",
    "plt.plot(Gyears, LMP_model, color='g', label='logistic model') \n",
    "plt.plot(Gyears, GMP_model, color='orange', label='Gompertz model')\n",
    "plt.ylabel('Population of Munich (millions)', fontsize='15')\n",
    "plt.xlabel('Year', fontsize='15')\n",
    "plt.xlim([1825, 2010])\n",
    "plt.legend(loc=2)\n",
    "plt.title('Munich', fontsize='20')\n",
    "plt.savefig('GPop_Prediction')\n",
    "# plt.show()\n",
    "plt.close()"
   ]
  },
  {
   "cell_type": "markdown",
   "metadata": {},
   "source": [
    "# US"
   ]
  },
  {
   "cell_type": "markdown",
   "metadata": {},
   "source": [
    "#### US Data"
   ]
  },
  {
   "cell_type": "code",
   "execution_count": 7,
   "metadata": {
    "collapsed": true
   },
   "outputs": [],
   "source": [
    "CensusFile = open('USPopulation.csv', 'r') #Don't you dare overwrite this file!\n",
    "N = 23 #23 data points.\n",
    "i = 0\n",
    "j = 0\n",
    "USyears = np.zeros([N], dtype=int)\n",
    "USPop = np.zeros([N], dtype=int)\n",
    "for line in CensusFile:\n",
    "    if i == 0 or i==1:\n",
    "        i=i+1\n",
    "    else:\n",
    "        values = line.split(',')\n",
    "        USyears[j] = int(values[0])\n",
    "        USPop[j] = int(values[1])\n",
    "        j = j+1\n",
    "        i = i+1\n",
    "\n",
    "CensusFile.close()\n",
    "USTime = USyears - 1790 # base at 0\n",
    "USPop_mil = USPop/1.e6\n",
    "\n",
    "#Floating point types, used by curve_fit\n",
    "USTime_fl = USTime.astype(np.float64)\n",
    "USPop_fl = USPop.astype(np.float64)/1e6"
   ]
  },
  {
   "cell_type": "markdown",
   "metadata": {
    "collapsed": true
   },
   "source": [
    "#### US Model"
   ]
  },
  {
   "cell_type": "code",
   "execution_count": 8,
   "metadata": {
    "collapsed": false
   },
   "outputs": [
    {
     "name": "stdout",
     "output_type": "stream",
     "text": [
      "Linear A and r are 6.31870740867 0.0196230740592\n",
      "Nonlinear A and r are  [  1.63219275e+01   1.36356507e-02]\n",
      "Covariance matrix is  [[  2.40886171e+00  -7.56436294e-04]\n",
      " [ -7.56436294e-04   2.45797872e-07]]\n",
      "Final data point = 308.745538 Estimated value =  327.783264889\n",
      "\n",
      "\n",
      "Linear L, A and r are 350 77.2862419809 0.026926590088\n",
      "Nonlinear L, A and r are  [  4.86475249e+02   5.80898166e+01   2.07764405e-02]\n",
      "Covariance matrix is  [[  1.22959404e+03  -2.03511070e+01  -2.82128109e-02]\n",
      " [ -2.03511070e+01   1.32328720e+01   1.70773237e-03]\n",
      " [ -2.82128109e-02   1.70773237e-03   7.72815131e-07]]\n",
      "Final data point = 308.745538 Estimated value =  303.819041725\n",
      "\n",
      "\n",
      "Linear L, A and r are 350 6.07845636783 0.014055025293\n",
      "Nonlinear L, A and r are  [  1.38952460e+03   5.75990653e+00   6.08489989e-03]\n",
      "Covariance matrix is  [[  4.19174056e+04   6.43867712e+00  -8.27268570e-02]\n",
      " [  6.43867712e+00   4.68641737e-03  -9.17449955e-06]\n",
      " [ -8.27268570e-02  -9.17449955e-06   1.66832554e-07]]\n",
      "Final data point = 308.745538 Estimated value =  306.89791694\n",
      "\n",
      "\n"
     ]
    }
   ],
   "source": [
    "LUSPop_mil = np.log(USPop_mil)\n",
    "[re, lnAe] = np.polyfit(USTime,LUSPop_mil, 1) # Linear least squares fit\n",
    "popt, pcov = curve_fit(exp, USTime_fl, USPop_fl, p0=(np.exp(lnAe),re)) #Nonlinear fit\n",
    "USPopExpFinal = exp(USTime, popt[0], popt[1])\n",
    "\n",
    "print \"Linear A and r are\", np.exp(lnAe), re\n",
    "print \"Nonlinear A and r are \", popt\n",
    "print \"Covariance matrix is \", pcov\n",
    "print \"Final data point =\", USPop_mil[N-1], \"Estimated value = \", USPopExpFinal[N-1]\n",
    "print\n",
    "print\n",
    "\n",
    "Lguess = 350\n",
    "yval = np.log(Lguess/USPop_mil - 1.0)\n",
    "[mrl, lnAl] = np.polyfit(USTime, yval,1) #Linear least squares fit\n",
    "popt, pcov = curve_fit(log, USTime_fl, USPop_fl, p0 = (Lguess, np.exp(lnAl), -mrl)) #Nonlinear fit\n",
    "USPopLogFinal = log(USTime, popt[0], popt[1], popt[2])\n",
    "\n",
    "print \"Linear L, A and r are\", Lguess, np.exp(lnAl), -mrl\n",
    "print \"Nonlinear L, A and r are \", popt\n",
    "print \"Covariance matrix is \", pcov\n",
    "print \"Final data point =\", USPop_mil[N-1], \"Estimated value = \", USPopLogFinal[N-1]\n",
    "print\n",
    "print\n",
    "\n",
    "yval = np.log(np.log(Lguess/USPop_mil))\n",
    "[mrl, lnAl] = np.polyfit(USTime, yval,1)\n",
    "popt, pcov = curve_fit(gom, USTime_fl, USPop_fl, p0 = (Lguess, np.exp(lnAl), -mrl))\n",
    "USPopGomFinal = gom(USTime, popt[0], popt[1], popt[2])\n",
    "\n",
    "print \"Linear L, A and r are\", Lguess, np.exp(lnAl), -mrl\n",
    "print \"Nonlinear L, A and r are \", popt\n",
    "print \"Covariance matrix is \", pcov\n",
    "print \"Final data point =\", USPop_mil[N-1], \"Estimated value = \", USPopGomFinal[N-1]\n",
    "print\n",
    "print\n",
    "\n",
    "plt.figure(figsize=(6,8))\n",
    "plt.plot(USyears, USPop_mil, 'o', color='r', label='Munich Population')\n",
    "plt.plot(USyears, USPopExpFinal, color='b', label='Exponential Model')\n",
    "plt.plot(USyears, USPopLogFinal, color='g', label='Logistic Model')\n",
    "plt.plot(USyears, USPopGomFinal, color='orange', label=\"Gompertz Model\")\n",
    "plt.ylabel('US Population (millions)', fontsize='10')\n",
    "plt.xlabel('Year')\n",
    "plt.xlim([1790, 2010])\n",
    "plt.legend(loc=2)\n",
    "plt.title('Population of US and Best Fit Models')\n",
    "plt.savefig(\"USpop_model\")\n",
    "# plt.show()\n",
    "plt.close()"
   ]
  },
  {
   "cell_type": "markdown",
   "metadata": {
    "collapsed": true
   },
   "source": [
    "#### US Prediction"
   ]
  },
  {
   "cell_type": "code",
   "execution_count": 21,
   "metadata": {
    "collapsed": false
   },
   "outputs": [
    {
     "name": "stdout",
     "output_type": "stream",
     "text": [
      "Linear A and r are 6.07753319244 0.020179013696\n",
      "Nonlinear A and r are  [  1.50530646e+01   1.41889945e-02]\n",
      "Final data point = 308.745538 Estimated value =  341.436043916\n",
      "R2  0.983711356076\n",
      "Error  10.5881711288\n",
      "\n",
      "\n",
      "Linear L, A and r are 350 74.2799468884 0.0263598052858\n",
      "Nonlinear L, A and r are  [  4.44189039e+02   5.64257346e+01   2.15216199e-02]\n",
      "Final data point = 308.745538 Estimated value =  296.981952879\n",
      "R2  0.99712814801\n",
      "Error  -3.81012311859\n",
      "\n",
      "\n",
      "Linear L, A and r are 350 5.65785434413 0.0130306531833\n",
      "Nonlinear L, A and r are  [  1.27468707e+03   5.71833565e+00   6.29719971e-03]\n",
      "Final data point = 308.745538 Estimated value =  304.773829768\n",
      "R2  0.998986942091\n",
      "Error  -1.28640182397\n",
      "\n",
      "\n"
     ]
    }
   ],
   "source": [
    "LUSPop_mil = np.log(USPop_mil[0:N-1])\n",
    "[re, lnAe] = np.polyfit(USTime[0:N-1],LUSPop_mil, 1) # Linear least squares fit\n",
    "popt, pcov = curve_fit(exp, USTime_fl[0:N-1], USPop_fl[0:N-1], p0=(np.exp(lnAe),re)) #Nonlinear fit\n",
    "USPopExpFinal = exp(USTime, popt[0], popt[1])\n",
    "\n",
    "print \"Linear A and r are\", np.exp(lnAe), re\n",
    "print \"Nonlinear A and r are \", popt\n",
    "print \"Final data point =\", USPop_mil[N-1], \"Estimated value = \", USPopExpFinal[N-1]\n",
    "print \"R2 \", R2value(USPop_fl, USPopExpFinal)\n",
    "print \"Error \", ((USPopExpFinal[N-1]- USPop_mil[N-1])/USPop_mil[N-1])*100\n",
    "print\n",
    "print\n",
    "\n",
    "Lguess = 350\n",
    "yval = np.log(Lguess/USPop_mil[0:N-1] - 1.0)\n",
    "[mrl, lnAl] = np.polyfit(USTime[0:N-1], yval,1) #Linear least squares fit\n",
    "popt, pcov = curve_fit(log, USTime_fl[0:N-1], USPop_fl[0:N-1], p0 = (Lguess, np.exp(lnAl), -mrl)) #Nonlinear fit\n",
    "USPopLogFinal = log(USTime, popt[0], popt[1], popt[2])\n",
    "\n",
    "print \"Linear L, A and r are\", Lguess, np.exp(lnAl), -mrl\n",
    "print \"Nonlinear L, A and r are \", popt\n",
    "print \"Final data point =\", USPop_mil[N-1], \"Estimated value = \", USPopLogFinal[N-1]\n",
    "print \"R2 \", R2value(USPop_fl, USPopLogFinal)\n",
    "print \"Error \", ((USPopLogFinal[N-1]- USPop_mil[N-1])/USPop_mil[N-1])*100\n",
    "print\n",
    "print\n",
    "\n",
    "yval = np.log(np.log(Lguess/USPop_mil[0:N-1]))\n",
    "[mrl, lnAl] = np.polyfit(USTime[0:N-1], yval,1)\n",
    "popt, pcov = curve_fit(gom, USTime_fl[0:N-1], USPop_fl[0:N-1], p0 = (Lguess, np.exp(lnAl), -mrl))\n",
    "USPopGomFinal = gom(USTime, popt[0], popt[1], popt[2])\n",
    "\n",
    "print \"Linear L, A and r are\", Lguess, np.exp(lnAl), -mrl\n",
    "print \"Nonlinear L, A and r are \", popt\n",
    "print \"Final data point =\", USPop_mil[N-1], \"Estimated value = \", USPopGomFinal[N-1]\n",
    "print \"R2 \", R2value(USPop_fl, USPopGomFinal)\n",
    "print \"Error \", ((USPopGomFinal[N-1]- USPop_mil[N-1])/USPop_mil[N-1])*100\n",
    "print\n",
    "print\n",
    "\n",
    "plt.figure(figsize=(6,8))\n",
    "plt.plot(USyears, USPop_mil, 'o', color='r', label='US Population')\n",
    "plt.plot(USyears, USPopExpFinal, color='b', label='exponential model')\n",
    "plt.plot(USyears, USPopLogFinal, color='g', label='logistic model')\n",
    "plt.plot(USyears, USPopGomFinal, color='orange', label=\"Gompertz model\")\n",
    "plt.ylabel('US Population (millions)', fontsize='15')\n",
    "plt.xlabel('Year', fontsize='15')\n",
    "plt.xlim([1790, 2010])\n",
    "plt.legend(loc=2)\n",
    "plt.title('US', fontsize='20')\n",
    "plt.savefig(\"USpop_prediction\")\n",
    "# plt.show()\n",
    "plt.close()"
   ]
  },
  {
   "cell_type": "code",
   "execution_count": null,
   "metadata": {
    "collapsed": true
   },
   "outputs": [],
   "source": []
  }
 ],
 "metadata": {
  "anaconda-cloud": {},
  "kernelspec": {
   "display_name": "Python [Root]",
   "language": "python",
   "name": "Python [Root]"
  },
  "language_info": {
   "codemirror_mode": {
    "name": "ipython",
    "version": 2
   },
   "file_extension": ".py",
   "mimetype": "text/x-python",
   "name": "python",
   "nbconvert_exporter": "python",
   "pygments_lexer": "ipython2",
   "version": "2.7.12"
  }
 },
 "nbformat": 4,
 "nbformat_minor": 0
}
